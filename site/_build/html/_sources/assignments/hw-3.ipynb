{
 "cells": [
  {
   "cell_type": "markdown",
   "metadata": {
    "deletable": false,
    "editable": false,
    "nbgrader": {
     "cell_type": "markdown",
     "checksum": "7f5c50dcb14529f8a3c365fc9db67fb8",
     "grade": false,
     "grade_id": "Description",
     "locked": true,
     "schema_version": 3,
     "solution": false,
     "task": false
    }
   },
   "source": [
    "#### Homework-3\n",
    "##### Total number of points: 70\n",
    "#### Due date: September 27, 2021\n",
    "\n",
    "Before you submit this homework, make sure everything runs as expected. First, restart the kernel (in the menu, select Kernel → Restart) and then run all cells (in the menubar, select Cell → Run All). You can discuss with others regarding the homework but all work must be your own.\n",
    "\n",
    "This homework will test your knowledge on data manipulation, manipulating strings and feature preprocessing. The Python notebooks shared will be helpful to solve these problems.  \n",
    "\n",
    "Steps to evaluate your solutions:\n",
    "\n",
    "Step-1: Try on Colab or Anaconda (Windows: https://docs.anaconda.com/anaconda/install/windows/ ; Mac:https://docs.anaconda.com/anaconda/install/mac-os/ ; Linux: https://docs.anaconda.com/anaconda/install/linux/)\n",
    "\n",
    "Step-2: Open the Jupyter Notebook by first launching the anaconda software console\n",
    "\n",
    "Step-3: Open the homework's .ipynb file and write your solutions at the appropriate location \"# YOUR CODE HERE\"\n",
    "\n",
    "Step-4: You can restart the kernel and click run all (in the menubar, select Cell → Run All) on the center-right on the top of this window.\n",
    "\n",
    "Step-5: Now go to \"File\" then click on \"Download as\" then click on \"Notebook (.ipynb)\" Please DO NOT change the file name and just keep it as \".ipynb\"\n",
    "\n",
    "Step-6: Go to lms.rpi.edu and upload your homework at the appropriate link to submit this homework.\n",
    "\n",
    "\n",
    "#### Please note that for any question in this assignment you will receive points ONLY if your solution passes all the test cases including hidden testcases as well. So please make sure you try to think all possible scenarios before submitting your answers.  \n",
    "- Note that hidden tests are present to ensure you are not hardcoding. \n",
    "- If caught cheating: \n",
    "    - you will receive a score of 0 for the 1st violation. \n",
    "    - for repeated incidents, you will receive an automatic 'F' grade and will be reported to the dean of Lally School of Management. "
   ]
  },
  {
   "cell_type": "markdown",
   "metadata": {
    "deletable": false,
    "editable": false,
    "nbgrader": {
     "cell_type": "markdown",
     "checksum": "eb78acdd90e34c37c4b5fc7febf79d09",
     "grade": false,
     "grade_id": "dataset",
     "locked": true,
     "schema_version": 3,
     "solution": false,
     "task": false
    }
   },
   "source": [
    "Use the titanic dataset found here:  (https://raw.githubusercontent.com/lmanikon/lmanikon.github.io/master/teaching/datasets/titanic.csv) \n",
    "Please note that we will use this dataset in some of the questions here below. "
   ]
  },
  {
   "cell_type": "markdown",
   "metadata": {
    "deletable": false,
    "editable": false,
    "nbgrader": {
     "cell_type": "markdown",
     "checksum": "b16fbdb55ce025c1a59c33fe93abcd24",
     "grade": false,
     "grade_id": "Q1-desc",
     "locked": true,
     "schema_version": 3,
     "solution": false,
     "task": false
    }
   },
   "source": [
    "#### Q1 [5 points]. Shape of a Data Frame. \n",
    "1. Import pandas package as pd.\n",
    "2. Read the file from the 'url' and load the data into dataframe `df` with default index.\n",
    "3. print the number of rows and columns as `rows1` and `cols1` respectively. \n"
   ]
  },
  {
   "cell_type": "code",
   "execution_count": null,
   "metadata": {
    "deletable": false,
    "nbgrader": {
     "cell_type": "code",
     "checksum": "609bb35677d8339d7e3cd800f664df1d",
     "grade": false,
     "grade_id": "Q1",
     "locked": false,
     "schema_version": 3,
     "solution": true,
     "task": false
    }
   },
   "outputs": [],
   "source": [
    "\n",
    "url='https://raw.githubusercontent.com/lmanikon/lmanikon.github.io/master/teaching/datasets/titanic.csv'\n",
    "\n",
    "# YOUR CODE HERE\n"
   ]
  },
  {
   "cell_type": "code",
   "execution_count": null,
   "metadata": {
    "deletable": false,
    "editable": false,
    "nbgrader": {
     "cell_type": "code",
     "checksum": "eaebf7e782b558ae7db024a5ed57e063",
     "grade": true,
     "grade_id": "Q1-tests",
     "locked": true,
     "points": 5,
     "schema_version": 3,
     "solution": false,
     "task": false
    }
   },
   "outputs": [],
   "source": [
    "assert rows1==891\n",
    "assert df['age'].sum()==21205.17"
   ]
  },
  {
   "cell_type": "markdown",
   "metadata": {
    "deletable": false,
    "editable": false,
    "nbgrader": {
     "cell_type": "markdown",
     "checksum": "0cf573dfd876511e7bdb4a0d4fa2a341",
     "grade": false,
     "grade_id": "movingforward",
     "locked": true,
     "schema_version": 3,
     "solution": false,
     "task": false
    }
   },
   "source": [
    "Now we will be using the above dataframe df to do preprocessing operations on this data. \n",
    "All the required libraries for further processing will be loaded here. "
   ]
  },
  {
   "cell_type": "code",
   "execution_count": null,
   "metadata": {
    "deletable": false,
    "editable": false,
    "nbgrader": {
     "cell_type": "code",
     "checksum": "76bc6b86d4b5fe968498aac0347dc906",
     "grade": false,
     "grade_id": "MovingForward",
     "locked": true,
     "schema_version": 3,
     "solution": false,
     "task": false
    }
   },
   "outputs": [],
   "source": [
    "import numpy as np\n",
    "import pandas as pd\n",
    "import re"
   ]
  },
  {
   "cell_type": "markdown",
   "metadata": {
    "deletable": false,
    "editable": false,
    "nbgrader": {
     "cell_type": "markdown",
     "checksum": "f9e8d630480d2ed1bb15902d5ccf7424",
     "grade": false,
     "grade_id": "Q2-desc",
     "locked": true,
     "schema_version": 3,
     "solution": false,
     "task": false
    }
   },
   "source": [
    "#### Q2 [5 points]. Aggregate operation\n",
    "1. Use the dataframe `df` created in the previous cell to group together rows based on the `gender` and assign this output to `ggby`\n",
    "- Hint -- Use groupby operation \n",
    "\n"
   ]
  },
  {
   "cell_type": "code",
   "execution_count": null,
   "metadata": {
    "deletable": false,
    "nbgrader": {
     "cell_type": "code",
     "checksum": "cedbf70107954d4be9109bd6b74da34b",
     "grade": false,
     "grade_id": "Q2",
     "locked": false,
     "schema_version": 3,
     "solution": true,
     "task": false
    }
   },
   "outputs": [],
   "source": [
    "#Use the Dataframe `df` created in Q1 \n",
    "#Hint -- use groupby \n",
    "\n",
    "\n",
    "# YOUR CODE HERE\n",
    "\n"
   ]
  },
  {
   "cell_type": "code",
   "execution_count": null,
   "metadata": {
    "deletable": false,
    "editable": false,
    "nbgrader": {
     "cell_type": "code",
     "checksum": "4609f24d4fcaafda143eac1d98d66fc4",
     "grade": true,
     "grade_id": "Q2-Sol",
     "locked": true,
     "points": 5,
     "schema_version": 3,
     "solution": false,
     "task": false
    }
   },
   "outputs": [],
   "source": [
    "assert len(ggby)==2\n"
   ]
  },
  {
   "cell_type": "markdown",
   "metadata": {
    "deletable": false,
    "editable": false,
    "nbgrader": {
     "cell_type": "markdown",
     "checksum": "73ae2c179087fe28a3e9c47e723d8fd4",
     "grade": false,
     "grade_id": "Q3-desc",
     "locked": true,
     "schema_version": 3,
     "solution": false,
     "task": false
    }
   },
   "source": [
    "#### Q3 [5 points]. Now use this `ggby` format to \n",
    "1. compute the mean age (use the 'age' attribute) of passengers who are `female` and `male` ('gender' attribute) as `fage` and `mage` respectively. \n",
    "2. Round the `fage` and `mage` to print only 2 decimal places -- for example 3.14156 converts to 3.14 \n"
   ]
  },
  {
   "cell_type": "code",
   "execution_count": null,
   "metadata": {
    "deletable": false,
    "nbgrader": {
     "cell_type": "code",
     "checksum": "f21c6cfb455810b6e0b092eb84e149d3",
     "grade": false,
     "grade_id": "Q3",
     "locked": false,
     "schema_version": 3,
     "solution": true,
     "task": false
    }
   },
   "outputs": [],
   "source": [
    "#Hint -- Use ONLY the dataframe's mean operation\n",
    "\n",
    "# YOUR CODE HERE\n"
   ]
  },
  {
   "cell_type": "code",
   "execution_count": null,
   "metadata": {
    "deletable": false,
    "editable": false,
    "nbgrader": {
     "cell_type": "code",
     "checksum": "ed97410a847fbcbfc880a4ff7efc165c",
     "grade": true,
     "grade_id": "Q3-tests",
     "locked": true,
     "points": 5,
     "schema_version": 3,
     "solution": false,
     "task": false
    }
   },
   "outputs": [],
   "source": [
    "assert fage==27.92\n",
    "assert mage==30.73"
   ]
  },
  {
   "cell_type": "markdown",
   "metadata": {
    "deletable": false,
    "editable": false,
    "nbgrader": {
     "cell_type": "markdown",
     "checksum": "10d76e6ccb3715ba5cdd1fc9e4468d4a",
     "grade": false,
     "grade_id": "Q4-desc",
     "locked": true,
     "schema_version": 3,
     "solution": false,
     "task": false
    }
   },
   "source": [
    "#### Q4 [5 points]. Now use the above groups obtained by grouping on the `gender` attribute \n",
    "1. and consider only the 'female' group to save that group as a sub dataframe `fmdf`. \n",
    "\n",
    "Note that `fmdf` will act as a new dataframe with all the columns as the original dataframe. \n"
   ]
  },
  {
   "cell_type": "code",
   "execution_count": null,
   "metadata": {
    "deletable": false,
    "nbgrader": {
     "cell_type": "code",
     "checksum": "9b29419e0ddd50a55c649dd0c9ae94d6",
     "grade": false,
     "grade_id": "Q4",
     "locked": false,
     "schema_version": 3,
     "solution": true,
     "task": false
    }
   },
   "outputs": [],
   "source": [
    "\n",
    "# YOUR CODE HERE\n"
   ]
  },
  {
   "cell_type": "code",
   "execution_count": null,
   "metadata": {
    "deletable": false,
    "editable": false,
    "nbgrader": {
     "cell_type": "code",
     "checksum": "b71fbdb591601f7a9aba7a80b757eec6",
     "grade": true,
     "grade_id": "Q4-sol",
     "locked": true,
     "points": 5,
     "schema_version": 3,
     "solution": false,
     "task": false
    }
   },
   "outputs": [],
   "source": [
    "assert len(fmdf['age'])==314\n",
    "assert len(fmdf.columns)==15\n",
    "assert (fmdf['age'].sum())==7286.0"
   ]
  },
  {
   "cell_type": "markdown",
   "metadata": {
    "deletable": false,
    "editable": false,
    "nbgrader": {
     "cell_type": "markdown",
     "checksum": "12eb5fa8aa918125c14b30c97a46ff9b",
     "grade": false,
     "grade_id": "Q5-desc",
     "locked": true,
     "schema_version": 3,
     "solution": false,
     "task": false
    }
   },
   "source": [
    "#### Q5 [5 points]. Now using `fmdf` \n",
    "1. remove all the rows where atleast one element is missing and \n",
    "2. save this as a new dataframe object `newfm`"
   ]
  },
  {
   "cell_type": "code",
   "execution_count": null,
   "metadata": {
    "deletable": false,
    "nbgrader": {
     "cell_type": "code",
     "checksum": "5b1ab7ea3ceeeab6c801637bde529e6e",
     "grade": false,
     "grade_id": "Q5",
     "locked": false,
     "schema_version": 3,
     "solution": true,
     "task": false
    }
   },
   "outputs": [],
   "source": [
    "#Use 'fmdf' from Q4 above. \n",
    "\n",
    "# YOUR CODE HERE\n"
   ]
  },
  {
   "cell_type": "code",
   "execution_count": null,
   "metadata": {
    "deletable": false,
    "editable": false,
    "nbgrader": {
     "cell_type": "code",
     "checksum": "f06fe39b5b9484824dec686b1278493a",
     "grade": true,
     "grade_id": "Q5-tests",
     "locked": true,
     "points": 5,
     "schema_version": 3,
     "solution": false,
     "task": false
    }
   },
   "outputs": [],
   "source": [
    "assert newfm['age'].sum() == 2875.5\n",
    "assert newfm['survived'].count() == 88"
   ]
  },
  {
   "cell_type": "markdown",
   "metadata": {
    "deletable": false,
    "editable": false,
    "nbgrader": {
     "cell_type": "markdown",
     "checksum": "771cea7e2fe1e34e010635532c6bb4d4",
     "grade": false,
     "grade_id": "Q6-desc",
     "locked": true,
     "schema_version": 3,
     "solution": false,
     "task": false
    }
   },
   "source": [
    "#### Q6 [5 points]. Lets focus on stratified sampling \n",
    "1. Utilize the original dataframe `df` we created in Q1 to now perform 3 different subgroups of data based on the `who` attribute \n",
    "- There are 3 groups -- `woman`, `man`, `child` \n",
    "2. Perform random sampling to sample 5 data points (or rows) from each group -- `wsample`, `msample` and `csample` -- these will look like dataframes as well\n"
   ]
  },
  {
   "cell_type": "code",
   "execution_count": null,
   "metadata": {
    "deletable": false,
    "nbgrader": {
     "cell_type": "code",
     "checksum": "1a008005a8b0f7a3e1c8033384cb7d12",
     "grade": false,
     "grade_id": "Q6",
     "locked": false,
     "schema_version": 3,
     "solution": true,
     "task": false
    }
   },
   "outputs": [],
   "source": [
    "#Stratified sampling\n",
    "\n",
    "# YOUR CODE HERE\n",
    "\n"
   ]
  },
  {
   "cell_type": "code",
   "execution_count": null,
   "metadata": {
    "deletable": false,
    "editable": false,
    "nbgrader": {
     "cell_type": "code",
     "checksum": "d85be6565935604213101731d509c557",
     "grade": true,
     "grade_id": "Q6-tests",
     "locked": true,
     "points": 5,
     "schema_version": 3,
     "solution": false,
     "task": false
    }
   },
   "outputs": [],
   "source": [
    "assert set(wsample['gender'])=={'female'}\n",
    "assert set(msample['gender'])=={'male'}"
   ]
  },
  {
   "cell_type": "markdown",
   "metadata": {
    "deletable": false,
    "editable": false,
    "nbgrader": {
     "cell_type": "markdown",
     "checksum": "8cb75b0ecb74702ce44769f6fcbd3a92",
     "grade": false,
     "grade_id": "Q7-desc",
     "locked": true,
     "schema_version": 3,
     "solution": false,
     "task": false
    }
   },
   "source": [
    "#### Q7 [10 points]. Lets focus on feature manipulation \n",
    "1. Consider the original dataframe `df`. \n",
    "2. Remove all the rows with atleast one missing value. \n",
    "3. Then Standardize the `age` attribute -- which means replace each value in  the `age` attribute with the corresponding standardized value. You are modifying `df['age']`.\n",
    "\n",
    "Please use the definition I gave during the lectures about what standardize means. \n",
    "For this question only use `np.mean()` and `np.std()` functions to compute the mean and standard deviation values for a given series. \n"
   ]
  },
  {
   "cell_type": "code",
   "execution_count": null,
   "metadata": {
    "deletable": false,
    "nbgrader": {
     "cell_type": "code",
     "checksum": "869f5b93c67d5b224c740d860c91007a",
     "grade": false,
     "grade_id": "Q7",
     "locked": false,
     "schema_version": 3,
     "solution": true,
     "task": false
    }
   },
   "outputs": [],
   "source": [
    "#Only use numpy's mean() and std() functions \n",
    "\n",
    "# YOUR CODE HERE\n"
   ]
  },
  {
   "cell_type": "code",
   "execution_count": null,
   "metadata": {
    "deletable": false,
    "editable": false,
    "nbgrader": {
     "cell_type": "code",
     "checksum": "31028cf597611cce72b931e942cc7c27",
     "grade": true,
     "grade_id": "Q7-tests",
     "locked": true,
     "points": 10,
     "schema_version": 3,
     "solution": false,
     "task": false
    }
   },
   "outputs": [],
   "source": [
    "assert round(df['age'].sum(), 2)==145.84"
   ]
  },
  {
   "cell_type": "markdown",
   "metadata": {
    "deletable": false,
    "editable": false,
    "nbgrader": {
     "cell_type": "markdown",
     "checksum": "828af6dbaa639960474f4c8b0484d0a7",
     "grade": false,
     "grade_id": "Q8-desc",
     "locked": true,
     "schema_version": 3,
     "solution": false,
     "task": false
    }
   },
   "source": [
    "#### Q8 [10 points]. Lets now focus on binarization\n",
    "Utilize the original data frame `df` we created in Q1 (cell 2) to perform binarization\n",
    "1. Re-read the file from url in Q1 and create a dataframe `df`\n",
    "2. Remove all the rows with atleast one missing value\n",
    "3. If the `embark_town` is `Queenstown` replace with 1 otherwise 0."
   ]
  },
  {
   "cell_type": "code",
   "execution_count": null,
   "metadata": {
    "deletable": false,
    "nbgrader": {
     "cell_type": "code",
     "checksum": "f513c88c018459e1a5d64156c69e3484",
     "grade": false,
     "grade_id": "Q8",
     "locked": false,
     "schema_version": 3,
     "solution": true,
     "task": false
    }
   },
   "outputs": [],
   "source": [
    "url='https://raw.githubusercontent.com/lmanikon/lmanikon.github.io/master/teaching/datasets/titanic.csv'\n",
    "\n",
    "# YOUR CODE HERE\n"
   ]
  },
  {
   "cell_type": "code",
   "execution_count": null,
   "metadata": {
    "deletable": false,
    "editable": false,
    "nbgrader": {
     "cell_type": "code",
     "checksum": "112a699741eb79e135606b85f2fb22bc",
     "grade": true,
     "grade_id": "Q8-Sol",
     "locked": true,
     "points": 10,
     "schema_version": 3,
     "solution": false,
     "task": false
    }
   },
   "outputs": [],
   "source": [
    "assert (df['embark_town'].sum())==2\n",
    "assert set(df['embark_town'])=={0,1}"
   ]
  },
  {
   "cell_type": "markdown",
   "metadata": {
    "deletable": false,
    "editable": false,
    "nbgrader": {
     "cell_type": "markdown",
     "checksum": "e1af051dd32902a047770523dcc7aef7",
     "grade": false,
     "grade_id": "Q9-desc",
     "locked": true,
     "schema_version": 3,
     "solution": false,
     "task": false
    }
   },
   "source": [
    "#### Q9 [10 points]. Use the html content shared here below and parse it using the 'soup' object to \n",
    "1. print all the unique `Hometown` values as a list object `hts`\n",
    "2. Convert each value of the hometown to a lower-case\n",
    "3. Failure to print the answer as a list will lead to loss of points. \n"
   ]
  },
  {
   "cell_type": "code",
   "execution_count": null,
   "metadata": {
    "deletable": false,
    "nbgrader": {
     "cell_type": "code",
     "checksum": "635ac1e32e48873c020dd1ef910481e5",
     "grade": false,
     "grade_id": "Q9",
     "locked": false,
     "schema_version": 3,
     "solution": true,
     "task": false
    }
   },
   "outputs": [],
   "source": [
    "import requests\n",
    "from bs4 import BeautifulSoup\n",
    "import operator\n",
    "import pandas as pd\n",
    "import json\n",
    "newtext = \"\"\"\n",
    "<p>\n",
    "    <strong class=\"person1\">YOB:</strong> 1990<br />\n",
    "    <strong class=\"person1\">GENDER:</strong> FEMALE<br />\n",
    "    <strong class=\"person1\">EYE COLOR:</strong> GREEN<br />\n",
    "    <strong class=\"person1\">HAIR COLOR:</strong> BROWN<br />\n",
    "    <strong class=\"person1\">GPA:</strong> 4<br />\n",
    "    <strong class=\"person1\">Hometown:</strong> Minneapolis<br />\n",
    "</p>\n",
    "\n",
    "<p>\n",
    "    <strong class=\"person2\">YOB:</strong> 1993<br />\n",
    "    <strong class=\"person2\">GENDER:</strong> FEMALE<br />\n",
    "    <strong class=\"person2\">EYE COLOR:</strong> BROWN<br />\n",
    "    <strong class=\"person2\">HAIR COLOR:</strong> BLACK<br />\n",
    "    <strong class=\"person2\">GPA:</strong> 3.5<br />\n",
    "    <strong class=\"person2\">Hometown:</strong> New York<br />\n",
    "</p>\n",
    "\n",
    "\"\"\"\n",
    "hts=[]\n",
    "soup = BeautifulSoup(newtext)\n",
    "\n",
    "# YOUR CODE HERE\n"
   ]
  },
  {
   "cell_type": "code",
   "execution_count": null,
   "metadata": {
    "deletable": false,
    "editable": false,
    "nbgrader": {
     "cell_type": "code",
     "checksum": "60ec78d5ad80284cf40e9d761bc8afef",
     "grade": true,
     "grade_id": "Q9-tests",
     "locked": true,
     "points": 10,
     "schema_version": 3,
     "solution": false,
     "task": false
    }
   },
   "outputs": [],
   "source": [
    "assert len(hts)==2\n",
    "assert hts==['minneapolis', 'new york']"
   ]
  },
  {
   "cell_type": "markdown",
   "metadata": {
    "deletable": false,
    "editable": false,
    "nbgrader": {
     "cell_type": "markdown",
     "checksum": "397c01e9c11bf200196c2766b8ed7201",
     "grade": false,
     "grade_id": "Q10-desc",
     "locked": true,
     "schema_version": 3,
     "solution": false,
     "task": false
    }
   },
   "source": [
    "#### Q10 [5 points]. Given a string 'str10' first split the string into words and convert them to lowercase. \n",
    "- Now using the 'join' operation we learnt in the class, concatenate these words to a new string `str11` to ensure each word will now be in a new line\n",
    "- for example: str1 is 'it is cold today' to str2 will be:\n",
    "\n",
    "`it\n",
    "is\n",
    "cold\n",
    "today`"
   ]
  },
  {
   "cell_type": "code",
   "execution_count": null,
   "metadata": {
    "deletable": false,
    "nbgrader": {
     "cell_type": "code",
     "checksum": "719de2eb35b74de22e3b8ca649e9cd27",
     "grade": false,
     "grade_id": "Q10",
     "locked": false,
     "schema_version": 3,
     "solution": true,
     "task": false
    }
   },
   "outputs": [],
   "source": [
    "str10 = 'Email the company at xyz@abcd.com and is the easiest way compared to tweet @abcdxyz'\n",
    "# YOUR CODE HERE\n"
   ]
  },
  {
   "cell_type": "code",
   "execution_count": null,
   "metadata": {
    "deletable": false,
    "editable": false,
    "nbgrader": {
     "cell_type": "code",
     "checksum": "f6be54c44af181b5b1e51503316d905e",
     "grade": true,
     "grade_id": "Q10-tests",
     "locked": true,
     "points": 5,
     "schema_version": 3,
     "solution": false,
     "task": false
    }
   },
   "outputs": [],
   "source": [
    "assert len(str11)==83"
   ]
  },
  {
   "cell_type": "markdown",
   "metadata": {
    "deletable": false,
    "editable": false,
    "nbgrader": {
     "cell_type": "markdown",
     "checksum": "8cb28314805f1dc23995e864496f6c49",
     "grade": false,
     "grade_id": "Q11-desc",
     "locked": true,
     "schema_version": 3,
     "solution": false,
     "task": false
    }
   },
   "source": [
    "#### Q11 [5 points]. Use the regular expressions package to extract all the email ids mentioned in the above sentence `str10` as a list object `emails`"
   ]
  },
  {
   "cell_type": "code",
   "execution_count": null,
   "metadata": {
    "deletable": false,
    "nbgrader": {
     "cell_type": "code",
     "checksum": "d2bfe4fbbe707a3e4d98718ae32d205a",
     "grade": false,
     "grade_id": "Q11",
     "locked": false,
     "schema_version": 3,
     "solution": true,
     "task": false
    }
   },
   "outputs": [],
   "source": [
    "import re\n",
    "str10 = 'Email the company at xyz@abcd.com and is the easiest way compared to tweet @abcdxyz'\n",
    "emails=[]\n",
    "# YOUR CODE HERE\n",
    "\n"
   ]
  },
  {
   "cell_type": "code",
   "execution_count": null,
   "metadata": {
    "deletable": false,
    "editable": false,
    "nbgrader": {
     "cell_type": "code",
     "checksum": "42433ef404ca57765f68e57abf77e85b",
     "grade": true,
     "grade_id": "Q11-tests",
     "locked": true,
     "points": 5,
     "schema_version": 3,
     "solution": false,
     "task": false
    }
   },
   "outputs": [],
   "source": [
    "assert len(emails)==1\n",
    "assert emails[0]=='xyz@abcd.com'"
   ]
  }
 ],
 "metadata": {
  "kernelspec": {
   "display_name": "Python 3",
   "language": "python",
   "name": "python3"
  },
  "language_info": {
   "codemirror_mode": {
    "name": "ipython",
    "version": 3
   },
   "file_extension": ".py",
   "mimetype": "text/x-python",
   "name": "python",
   "nbconvert_exporter": "python",
   "pygments_lexer": "ipython3",
   "version": "3.8.3"
  }
 },
 "nbformat": 4,
 "nbformat_minor": 4
}
